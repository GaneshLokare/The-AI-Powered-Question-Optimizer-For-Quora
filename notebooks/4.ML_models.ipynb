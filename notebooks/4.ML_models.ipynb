{
 "cells": [
  {
   "cell_type": "markdown",
   "metadata": {
    "id": "ZihvUPvHtARd"
   },
   "source": [
    "<h1>6. Machine Learning Models </h1>"
   ]
  },
  {
   "cell_type": "code",
   "execution_count": 16,
   "metadata": {
    "id": "6VXPfRp-tARR",
    "outputId": "6c27acaf-2c6a-467f-fd7a-68efce98e30b"
   },
   "outputs": [],
   "source": [
    "# import required libraries\n",
    "import pandas as pd\n",
    "import matplotlib.pyplot as plt\n",
    "import seaborn as sns\n",
    "import re\n",
    "import time\n",
    "import warnings\n",
    "warnings.filterwarnings(\"ignore\")\n",
    "import datetime as dt\n",
    "import numpy as np\n",
    "from sklearn.linear_model import LogisticRegression\n",
    "from sklearn.linear_model import SGDClassifier\n",
    "from sklearn.feature_extraction.text import TfidfVectorizer\n",
    "from sklearn.model_selection import train_test_split\n",
    "from sklearn.model_selection import GridSearchCV\n",
    "from sklearn.calibration import CalibratedClassifierCV\n",
    "import math\n",
    "from collections import Counter\n",
    "from sklearn.model_selection import cross_val_score\n",
    "from sklearn import model_selection\n",
    "from sklearn.metrics import precision_recall_curve, auc, roc_curve, confusion_matrix, accuracy_score, log_loss\n",
    "import xgboost as xgb"
   ]
  },
  {
   "cell_type": "markdown",
   "metadata": {},
   "source": [
    "## 6.2 Load data"
   ]
  },
  {
   "cell_type": "code",
   "execution_count": 2,
   "metadata": {
    "id": "ZkeBKktKtAR3"
   },
   "outputs": [],
   "source": [
    "import pandas as pd\n",
    "data = pd.read_csv(\"all_features.csv\", nrows = 10000)"
   ]
  },
  {
   "cell_type": "code",
   "execution_count": 3,
   "metadata": {},
   "outputs": [
    {
     "data": {
      "text/plain": [
       "(10000, 628)"
      ]
     },
     "execution_count": 3,
     "metadata": {},
     "output_type": "execute_result"
    }
   ],
   "source": [
    "data.shape"
   ]
  },
  {
   "cell_type": "code",
   "execution_count": 4,
   "metadata": {
    "id": "QKSenpsmtAR9",
    "outputId": "81d890ce-df79-4402-9324-84817dbd5a7d"
   },
   "outputs": [
    {
     "data": {
      "text/html": [
       "<div>\n",
       "<style scoped>\n",
       "    .dataframe tbody tr th:only-of-type {\n",
       "        vertical-align: middle;\n",
       "    }\n",
       "\n",
       "    .dataframe tbody tr th {\n",
       "        vertical-align: top;\n",
       "    }\n",
       "\n",
       "    .dataframe thead th {\n",
       "        text-align: right;\n",
       "    }\n",
       "</style>\n",
       "<table border=\"1\" class=\"dataframe\">\n",
       "  <thead>\n",
       "    <tr style=\"text-align: right;\">\n",
       "      <th></th>\n",
       "      <th>id</th>\n",
       "      <th>is_duplicate</th>\n",
       "      <th>q1len</th>\n",
       "      <th>q2len</th>\n",
       "      <th>q1+q2_len</th>\n",
       "      <th>q1-q2_len</th>\n",
       "      <th>q1_words</th>\n",
       "      <th>q2_words</th>\n",
       "      <th>total_words</th>\n",
       "      <th>words_difference</th>\n",
       "      <th>...</th>\n",
       "      <th>290_y</th>\n",
       "      <th>291_y</th>\n",
       "      <th>292_y</th>\n",
       "      <th>293_y</th>\n",
       "      <th>294_y</th>\n",
       "      <th>295_y</th>\n",
       "      <th>296_y</th>\n",
       "      <th>297_y</th>\n",
       "      <th>298_y</th>\n",
       "      <th>299_y</th>\n",
       "    </tr>\n",
       "  </thead>\n",
       "  <tbody>\n",
       "    <tr>\n",
       "      <th>0</th>\n",
       "      <td>0</td>\n",
       "      <td>0</td>\n",
       "      <td>66</td>\n",
       "      <td>57</td>\n",
       "      <td>123</td>\n",
       "      <td>9</td>\n",
       "      <td>14</td>\n",
       "      <td>12</td>\n",
       "      <td>26</td>\n",
       "      <td>2</td>\n",
       "      <td>...</td>\n",
       "      <td>89.509871</td>\n",
       "      <td>-110.533625</td>\n",
       "      <td>-100.479424</td>\n",
       "      <td>90.664803</td>\n",
       "      <td>19.507948</td>\n",
       "      <td>-15.140525</td>\n",
       "      <td>-19.345136</td>\n",
       "      <td>-129.408695</td>\n",
       "      <td>-118.284831</td>\n",
       "      <td>89.844395</td>\n",
       "    </tr>\n",
       "    <tr>\n",
       "      <th>1</th>\n",
       "      <td>1</td>\n",
       "      <td>0</td>\n",
       "      <td>51</td>\n",
       "      <td>88</td>\n",
       "      <td>139</td>\n",
       "      <td>37</td>\n",
       "      <td>8</td>\n",
       "      <td>13</td>\n",
       "      <td>21</td>\n",
       "      <td>5</td>\n",
       "      <td>...</td>\n",
       "      <td>81.915579</td>\n",
       "      <td>52.010940</td>\n",
       "      <td>91.056819</td>\n",
       "      <td>-0.052428</td>\n",
       "      <td>-165.972075</td>\n",
       "      <td>103.077540</td>\n",
       "      <td>-83.073252</td>\n",
       "      <td>-68.480301</td>\n",
       "      <td>-117.666431</td>\n",
       "      <td>173.873648</td>\n",
       "    </tr>\n",
       "    <tr>\n",
       "      <th>2</th>\n",
       "      <td>2</td>\n",
       "      <td>0</td>\n",
       "      <td>73</td>\n",
       "      <td>59</td>\n",
       "      <td>132</td>\n",
       "      <td>14</td>\n",
       "      <td>14</td>\n",
       "      <td>10</td>\n",
       "      <td>24</td>\n",
       "      <td>4</td>\n",
       "      <td>...</td>\n",
       "      <td>88.559925</td>\n",
       "      <td>19.308219</td>\n",
       "      <td>128.521377</td>\n",
       "      <td>126.306732</td>\n",
       "      <td>-44.066754</td>\n",
       "      <td>148.308988</td>\n",
       "      <td>152.486339</td>\n",
       "      <td>-244.803431</td>\n",
       "      <td>2.997449</td>\n",
       "      <td>250.107358</td>\n",
       "    </tr>\n",
       "    <tr>\n",
       "      <th>3</th>\n",
       "      <td>3</td>\n",
       "      <td>0</td>\n",
       "      <td>50</td>\n",
       "      <td>65</td>\n",
       "      <td>115</td>\n",
       "      <td>15</td>\n",
       "      <td>11</td>\n",
       "      <td>9</td>\n",
       "      <td>20</td>\n",
       "      <td>2</td>\n",
       "      <td>...</td>\n",
       "      <td>46.109540</td>\n",
       "      <td>-82.958610</td>\n",
       "      <td>25.998560</td>\n",
       "      <td>32.833132</td>\n",
       "      <td>-39.527964</td>\n",
       "      <td>20.387944</td>\n",
       "      <td>-82.090781</td>\n",
       "      <td>-163.982581</td>\n",
       "      <td>34.050951</td>\n",
       "      <td>9.135598</td>\n",
       "    </tr>\n",
       "    <tr>\n",
       "      <th>4</th>\n",
       "      <td>4</td>\n",
       "      <td>0</td>\n",
       "      <td>76</td>\n",
       "      <td>39</td>\n",
       "      <td>115</td>\n",
       "      <td>37</td>\n",
       "      <td>13</td>\n",
       "      <td>7</td>\n",
       "      <td>20</td>\n",
       "      <td>6</td>\n",
       "      <td>...</td>\n",
       "      <td>113.437943</td>\n",
       "      <td>-65.196309</td>\n",
       "      <td>123.960645</td>\n",
       "      <td>-68.888675</td>\n",
       "      <td>-154.013207</td>\n",
       "      <td>-66.353766</td>\n",
       "      <td>8.589358</td>\n",
       "      <td>-33.926499</td>\n",
       "      <td>-25.562273</td>\n",
       "      <td>3.669500</td>\n",
       "    </tr>\n",
       "  </tbody>\n",
       "</table>\n",
       "<p>5 rows × 628 columns</p>\n",
       "</div>"
      ],
      "text/plain": [
       "   id  is_duplicate  q1len  q2len  q1+q2_len  q1-q2_len  q1_words  q2_words  \\\n",
       "0   0             0     66     57        123          9        14        12   \n",
       "1   1             0     51     88        139         37         8        13   \n",
       "2   2             0     73     59        132         14        14        10   \n",
       "3   3             0     50     65        115         15        11         9   \n",
       "4   4             0     76     39        115         37        13         7   \n",
       "\n",
       "   total_words  words_difference  ...       290_y       291_y       292_y  \\\n",
       "0           26                 2  ...   89.509871 -110.533625 -100.479424   \n",
       "1           21                 5  ...   81.915579   52.010940   91.056819   \n",
       "2           24                 4  ...   88.559925   19.308219  128.521377   \n",
       "3           20                 2  ...   46.109540  -82.958610   25.998560   \n",
       "4           20                 6  ...  113.437943  -65.196309  123.960645   \n",
       "\n",
       "        293_y       294_y       295_y       296_y       297_y       298_y  \\\n",
       "0   90.664803   19.507948  -15.140525  -19.345136 -129.408695 -118.284831   \n",
       "1   -0.052428 -165.972075  103.077540  -83.073252  -68.480301 -117.666431   \n",
       "2  126.306732  -44.066754  148.308988  152.486339 -244.803431    2.997449   \n",
       "3   32.833132  -39.527964   20.387944  -82.090781 -163.982581   34.050951   \n",
       "4  -68.888675 -154.013207  -66.353766    8.589358  -33.926499  -25.562273   \n",
       "\n",
       "        299_y  \n",
       "0   89.844395  \n",
       "1  173.873648  \n",
       "2  250.107358  \n",
       "3    9.135598  \n",
       "4    3.669500  \n",
       "\n",
       "[5 rows x 628 columns]"
      ]
     },
     "execution_count": 4,
     "metadata": {},
     "output_type": "execute_result"
    }
   ],
   "source": [
    "data.head()"
   ]
  },
  {
   "cell_type": "code",
   "execution_count": 5,
   "metadata": {},
   "outputs": [],
   "source": [
    "y_true = data['is_duplicate']\n",
    "data.drop([ 'id','is_duplicate'], axis=1, inplace=True)"
   ]
  },
  {
   "cell_type": "markdown",
   "metadata": {
    "id": "KaWHDzqUtASD"
   },
   "source": [
    "<h2> 6.3 Converting strings to numerics </h2>"
   ]
  },
  {
   "cell_type": "code",
   "execution_count": 6,
   "metadata": {
    "id": "iLV60gkptASD",
    "outputId": "f297e0f4-52d5-4ab4-8a43-f0ff82f63698"
   },
   "outputs": [],
   "source": [
    "# we convert all the features into numaric before we apply any model\n",
    "cols = list(data.columns)\n",
    "for i in cols:\n",
    "    data[i] = data[i].apply(pd.to_numeric)\n",
    "    "
   ]
  },
  {
   "cell_type": "code",
   "execution_count": 7,
   "metadata": {
    "id": "_LpfQwc9tASJ"
   },
   "outputs": [],
   "source": [
    "# https://stackoverflow.com/questions/7368789/convert-all-strings-in-a-list-to-int\n",
    "y_true = list(map(int, y_true.values))"
   ]
  },
  {
   "cell_type": "markdown",
   "metadata": {
    "id": "CuMTqWGutASO"
   },
   "source": [
    "<h2> 6.4 Random train test split( 70:30) </h2>"
   ]
  },
  {
   "cell_type": "code",
   "execution_count": 8,
   "metadata": {
    "id": "3Rat2obGtASP"
   },
   "outputs": [],
   "source": [
    "X_train,X_test, y_train, y_test = train_test_split(data, y_true, stratify=y_true, test_size=0.3)"
   ]
  },
  {
   "cell_type": "code",
   "execution_count": 9,
   "metadata": {},
   "outputs": [
    {
     "data": {
      "text/html": [
       "<div>\n",
       "<style scoped>\n",
       "    .dataframe tbody tr th:only-of-type {\n",
       "        vertical-align: middle;\n",
       "    }\n",
       "\n",
       "    .dataframe tbody tr th {\n",
       "        vertical-align: top;\n",
       "    }\n",
       "\n",
       "    .dataframe thead th {\n",
       "        text-align: right;\n",
       "    }\n",
       "</style>\n",
       "<table border=\"1\" class=\"dataframe\">\n",
       "  <thead>\n",
       "    <tr style=\"text-align: right;\">\n",
       "      <th></th>\n",
       "      <th>q1len</th>\n",
       "      <th>q2len</th>\n",
       "      <th>q1+q2_len</th>\n",
       "      <th>q1-q2_len</th>\n",
       "      <th>q1_words</th>\n",
       "      <th>q2_words</th>\n",
       "      <th>total_words</th>\n",
       "      <th>words_difference</th>\n",
       "      <th>simillar_words_count</th>\n",
       "      <th>word_share</th>\n",
       "      <th>...</th>\n",
       "      <th>290_y</th>\n",
       "      <th>291_y</th>\n",
       "      <th>292_y</th>\n",
       "      <th>293_y</th>\n",
       "      <th>294_y</th>\n",
       "      <th>295_y</th>\n",
       "      <th>296_y</th>\n",
       "      <th>297_y</th>\n",
       "      <th>298_y</th>\n",
       "      <th>299_y</th>\n",
       "    </tr>\n",
       "  </thead>\n",
       "  <tbody>\n",
       "    <tr>\n",
       "      <th>6170</th>\n",
       "      <td>65</td>\n",
       "      <td>45</td>\n",
       "      <td>110</td>\n",
       "      <td>20</td>\n",
       "      <td>12</td>\n",
       "      <td>9</td>\n",
       "      <td>21</td>\n",
       "      <td>3</td>\n",
       "      <td>8</td>\n",
       "      <td>0.380952</td>\n",
       "      <td>...</td>\n",
       "      <td>14.393129</td>\n",
       "      <td>-239.719940</td>\n",
       "      <td>-63.524810</td>\n",
       "      <td>59.881201</td>\n",
       "      <td>72.142992</td>\n",
       "      <td>5.754190</td>\n",
       "      <td>190.774236</td>\n",
       "      <td>-164.015844</td>\n",
       "      <td>-123.346762</td>\n",
       "      <td>48.104898</td>\n",
       "    </tr>\n",
       "    <tr>\n",
       "      <th>1315</th>\n",
       "      <td>57</td>\n",
       "      <td>63</td>\n",
       "      <td>120</td>\n",
       "      <td>6</td>\n",
       "      <td>11</td>\n",
       "      <td>12</td>\n",
       "      <td>23</td>\n",
       "      <td>1</td>\n",
       "      <td>9</td>\n",
       "      <td>0.391304</td>\n",
       "      <td>...</td>\n",
       "      <td>124.151477</td>\n",
       "      <td>-64.362867</td>\n",
       "      <td>-39.893544</td>\n",
       "      <td>24.476162</td>\n",
       "      <td>-138.759167</td>\n",
       "      <td>11.686112</td>\n",
       "      <td>10.615734</td>\n",
       "      <td>-81.583238</td>\n",
       "      <td>-164.554990</td>\n",
       "      <td>123.626516</td>\n",
       "    </tr>\n",
       "    <tr>\n",
       "      <th>3937</th>\n",
       "      <td>40</td>\n",
       "      <td>58</td>\n",
       "      <td>98</td>\n",
       "      <td>18</td>\n",
       "      <td>9</td>\n",
       "      <td>9</td>\n",
       "      <td>18</td>\n",
       "      <td>0</td>\n",
       "      <td>3</td>\n",
       "      <td>0.166667</td>\n",
       "      <td>...</td>\n",
       "      <td>40.455519</td>\n",
       "      <td>-57.670519</td>\n",
       "      <td>-43.233555</td>\n",
       "      <td>14.638245</td>\n",
       "      <td>-59.457570</td>\n",
       "      <td>-41.413203</td>\n",
       "      <td>-9.696043</td>\n",
       "      <td>-105.352894</td>\n",
       "      <td>-42.711663</td>\n",
       "      <td>33.374171</td>\n",
       "    </tr>\n",
       "    <tr>\n",
       "      <th>1927</th>\n",
       "      <td>26</td>\n",
       "      <td>32</td>\n",
       "      <td>58</td>\n",
       "      <td>6</td>\n",
       "      <td>5</td>\n",
       "      <td>6</td>\n",
       "      <td>11</td>\n",
       "      <td>1</td>\n",
       "      <td>0</td>\n",
       "      <td>0.000000</td>\n",
       "      <td>...</td>\n",
       "      <td>83.363547</td>\n",
       "      <td>-60.630362</td>\n",
       "      <td>103.437835</td>\n",
       "      <td>-44.875103</td>\n",
       "      <td>-44.730358</td>\n",
       "      <td>5.790354</td>\n",
       "      <td>-1.964831</td>\n",
       "      <td>-60.965828</td>\n",
       "      <td>-67.735530</td>\n",
       "      <td>19.255421</td>\n",
       "    </tr>\n",
       "    <tr>\n",
       "      <th>4543</th>\n",
       "      <td>38</td>\n",
       "      <td>49</td>\n",
       "      <td>87</td>\n",
       "      <td>11</td>\n",
       "      <td>5</td>\n",
       "      <td>9</td>\n",
       "      <td>14</td>\n",
       "      <td>4</td>\n",
       "      <td>2</td>\n",
       "      <td>0.142857</td>\n",
       "      <td>...</td>\n",
       "      <td>49.833147</td>\n",
       "      <td>-56.589051</td>\n",
       "      <td>16.491375</td>\n",
       "      <td>-3.369594</td>\n",
       "      <td>-60.000676</td>\n",
       "      <td>-53.776843</td>\n",
       "      <td>1.093084</td>\n",
       "      <td>-20.636595</td>\n",
       "      <td>-73.359813</td>\n",
       "      <td>8.243026</td>\n",
       "    </tr>\n",
       "  </tbody>\n",
       "</table>\n",
       "<p>5 rows × 626 columns</p>\n",
       "</div>"
      ],
      "text/plain": [
       "      q1len  q2len  q1+q2_len  q1-q2_len  q1_words  q2_words  total_words  \\\n",
       "6170     65     45        110         20        12         9           21   \n",
       "1315     57     63        120          6        11        12           23   \n",
       "3937     40     58         98         18         9         9           18   \n",
       "1927     26     32         58          6         5         6           11   \n",
       "4543     38     49         87         11         5         9           14   \n",
       "\n",
       "      words_difference  simillar_words_count  word_share  ...       290_y  \\\n",
       "6170                 3                     8    0.380952  ...   14.393129   \n",
       "1315                 1                     9    0.391304  ...  124.151477   \n",
       "3937                 0                     3    0.166667  ...   40.455519   \n",
       "1927                 1                     0    0.000000  ...   83.363547   \n",
       "4543                 4                     2    0.142857  ...   49.833147   \n",
       "\n",
       "           291_y       292_y      293_y       294_y      295_y       296_y  \\\n",
       "6170 -239.719940  -63.524810  59.881201   72.142992   5.754190  190.774236   \n",
       "1315  -64.362867  -39.893544  24.476162 -138.759167  11.686112   10.615734   \n",
       "3937  -57.670519  -43.233555  14.638245  -59.457570 -41.413203   -9.696043   \n",
       "1927  -60.630362  103.437835 -44.875103  -44.730358   5.790354   -1.964831   \n",
       "4543  -56.589051   16.491375  -3.369594  -60.000676 -53.776843    1.093084   \n",
       "\n",
       "           297_y       298_y       299_y  \n",
       "6170 -164.015844 -123.346762   48.104898  \n",
       "1315  -81.583238 -164.554990  123.626516  \n",
       "3937 -105.352894  -42.711663   33.374171  \n",
       "1927  -60.965828  -67.735530   19.255421  \n",
       "4543  -20.636595  -73.359813    8.243026  \n",
       "\n",
       "[5 rows x 626 columns]"
      ]
     },
     "execution_count": 9,
     "metadata": {},
     "output_type": "execute_result"
    }
   ],
   "source": [
    "X_test.head()"
   ]
  },
  {
   "cell_type": "code",
   "execution_count": 10,
   "metadata": {
    "id": "1Iw9zCHqtASS",
    "outputId": "910b684b-0876-4dd8-e0d9-457846236833"
   },
   "outputs": [
    {
     "name": "stdout",
     "output_type": "stream",
     "text": [
      "Number of data points in train data : (7000, 626)\n",
      "Number of data points in test data : (3000, 626)\n"
     ]
    }
   ],
   "source": [
    "print(\"Number of data points in train data :\",X_train.shape)\n",
    "print(\"Number of data points in test data :\",X_test.shape)"
   ]
  },
  {
   "cell_type": "code",
   "execution_count": 11,
   "metadata": {
    "id": "0oDV15LJtASY",
    "outputId": "70a1e4eb-3f31-4f1e-a53b-ad972978505d"
   },
   "outputs": [
    {
     "name": "stdout",
     "output_type": "stream",
     "text": [
      "---------- Distribution of output variable in train data ----------\n",
      "Class 0:  0.6288571428571429 Class 1:  0.37114285714285716\n",
      "---------- Distribution of output variable in test data ----------\n",
      "Class 0:  0.629 Class 1:  0.371\n"
     ]
    }
   ],
   "source": [
    "print(\"-\"*10, \"Distribution of output variable in train data\", \"-\"*10)\n",
    "train_distr = Counter(y_train)\n",
    "train_len = len(y_train)\n",
    "print(\"Class 0: \",int(train_distr[0])/train_len,\"Class 1: \", int(train_distr[1])/train_len)\n",
    "print(\"-\"*10, \"Distribution of output variable in test data\", \"-\"*10)\n",
    "test_distr = Counter(y_test)\n",
    "test_len = len(y_test)\n",
    "print(\"Class 0: \",int(test_distr[0])/test_len, \"Class 1: \",int(test_distr[1])/test_len)"
   ]
  },
  {
   "cell_type": "markdown",
   "metadata": {},
   "source": [
    "### Confusion matrix"
   ]
  },
  {
   "cell_type": "code",
   "execution_count": 12,
   "metadata": {
    "id": "XfxcPT6jtASg"
   },
   "outputs": [],
   "source": [
    "# This function plots the confusion matrices given y_i, y_i_hat.\n",
    "def plot_confusion_matrix(test_y, predict_y):\n",
    "    C = confusion_matrix(test_y, predict_y)\n",
    "    # C = 9,9 matrix, each cell (i,j) represents number of points of class i are predicted class j\n",
    "    \n",
    "    A =(((C.T)/(C.sum(axis=1))).T)\n",
    "    #divid each element of the confusion matrix with the sum of elements in that column\n",
    "    \n",
    "    \n",
    "    B =(C/C.sum(axis=0))\n",
    "    #divid each element of the confusion matrix with the sum of elements in that row\n",
    "   \n",
    "    plt.figure(figsize=(20,4))\n",
    "    \n",
    "    labels = [1,2]\n",
    "    # representing A in heatmap format\n",
    "    cmap=sns.light_palette(\"blue\")\n",
    "    plt.subplot(1, 3, 1)\n",
    "    sns.heatmap(C, annot=True, cmap=cmap, fmt=\".3f\", xticklabels=labels, yticklabels=labels)\n",
    "    plt.xlabel('Predicted Class')\n",
    "    plt.ylabel('Original Class')\n",
    "    plt.title(\"Confusion matrix\")\n",
    "    \n",
    "    plt.subplot(1, 3, 2)\n",
    "    sns.heatmap(B, annot=True, cmap=cmap, fmt=\".3f\", xticklabels=labels, yticklabels=labels)\n",
    "    plt.xlabel('Predicted Class')\n",
    "    plt.ylabel('Original Class')\n",
    "    plt.title(\"Precision matrix\")\n",
    "    \n",
    "    plt.subplot(1, 3, 3)\n",
    "    # representing B in heatmap format\n",
    "    sns.heatmap(A, annot=True, cmap=cmap, fmt=\".3f\", xticklabels=labels, yticklabels=labels)\n",
    "    plt.xlabel('Predicted Class')\n",
    "    plt.ylabel('Original Class')\n",
    "    plt.title(\"Recall matrix\")\n",
    "    \n",
    "    plt.show()"
   ]
  },
  {
   "cell_type": "code",
   "execution_count": 13,
   "metadata": {},
   "outputs": [],
   "source": [
    "labels = np.array([0,1])"
   ]
  },
  {
   "cell_type": "markdown",
   "metadata": {
    "id": "UStQJ5F_tASk"
   },
   "source": [
    "<h2> 6.5 Building a random model (Finding worst-case log-loss) </h2>"
   ]
  },
  {
   "cell_type": "code",
   "execution_count": 14,
   "metadata": {
    "id": "qwMDqcU7tASl",
    "outputId": "c1e90d53-25ec-445b-e33a-299538520e32"
   },
   "outputs": [
    {
     "name": "stdout",
     "output_type": "stream",
     "text": [
      "Log loss on Test Data using Random Model 0.8604848735479542\n"
     ]
    },
    {
     "data": {
      "image/png": "[encoded data removed]",
      "text/plain": [
       "<Figure size 1440x288 with 6 Axes>"
      ]
     },
     "metadata": {
      "needs_background": "light"
     },
     "output_type": "display_data"
    }
   ],
   "source": [
    "# we need to generate 9 numbers and the sum of numbers should be 1\n",
    "# one solution is to genarate 9 numbers and divide each of the numbers by their sum\n",
    "# ref: https://stackoverflow.com/a/18662466/4084039\n",
    "# we create a output array that has exactly same size as the CV data\n",
    "predicted_y = np.zeros((test_len,2))\n",
    "for i in range(test_len):\n",
    "    rand_probs = np.random.rand(1,2)\n",
    "    predicted_y[i] = ((rand_probs/sum(sum(rand_probs)))[0])\n",
    "print(\"Log loss on Test Data using Random Model\",log_loss(y_test, predicted_y, eps=1e-15))\n",
    "\n",
    "predicted_y =np.argmax(predicted_y, axis=1)\n",
    "plot_confusion_matrix(y_test, predicted_y)"
   ]
  },
  {
   "cell_type": "markdown",
   "metadata": {},
   "source": [
    "<h2> 6.6 Logistic Regression with hyperparameter tuning </h2>"
   ]
  },
  {
   "cell_type": "code",
   "execution_count": 17,
   "metadata": {},
   "outputs": [
    {
     "name": "stdout",
     "output_type": "stream",
     "text": [
      "For values of alpha =  1e-05 The log loss is: 0.6594859818900423\n",
      "For values of alpha =  0.0001 The log loss is: 0.6594859818900423\n",
      "For values of alpha =  0.001 The log loss is: 0.6206127714643227\n",
      "For values of alpha =  0.01 The log loss is: 0.587009101669169\n",
      "For values of alpha =  0.1 The log loss is: 0.5835178680554756\n",
      "For values of alpha =  1 The log loss is: 0.592601467350604\n",
      "For values of alpha =  10 The log loss is: 0.5786385412166767\n"
     ]
    },
    {
     "data": {
      "image/png": "[encoded data removed]",
      "text/plain": [
       "<Figure size 432x288 with 1 Axes>"
      ]
     },
     "metadata": {
      "needs_background": "light"
     },
     "output_type": "display_data"
    },
    {
     "name": "stdout",
     "output_type": "stream",
     "text": [
      "For values of best alpha =  10 The train log loss is: 0.5236009315943219\n",
      "For values of best alpha =  10 The test log loss is: 0.5786385412166767\n",
      "Total number of data points : 3000\n"
     ]
    },
    {
     "data": {
      "image/png": "[encoded data removed]",
      "text/plain": [
       "<Figure size 1440x288 with 6 Axes>"
      ]
     },
     "metadata": {
      "needs_background": "light"
     },
     "output_type": "display_data"
    }
   ],
   "source": [
    "alpha = [10 ** x for x in range(-5, 2)] # hyperparam for SGD classifier.\n",
    "\n",
    "log_error_array=[]\n",
    "for i in alpha:\n",
    "    clf = SGDClassifier(alpha=i, penalty='l2', loss='log', random_state=42)\n",
    "    clf.fit(X_train, y_train)\n",
    "    sig_clf = CalibratedClassifierCV(clf, method=\"sigmoid\")\n",
    "    sig_clf.fit(X_train, y_train)\n",
    "    predict_y = sig_clf.predict_proba(X_test)\n",
    "    log_error_array.append(log_loss(y_test, predict_y, labels=clf.classes_, eps=1e-15))\n",
    "    print('For values of alpha = ', i, \"The log loss is:\",log_loss(y_test, predict_y, labels=clf.classes_, eps=1e-15))\n",
    "\n",
    "fig, ax = plt.subplots()\n",
    "ax.plot(alpha, log_error_array,c='g')\n",
    "for i, txt in enumerate(np.round(log_error_array,3)):\n",
    "    ax.annotate((alpha[i],np.round(txt,3)), (alpha[i],log_error_array[i]))\n",
    "plt.grid()\n",
    "plt.title(\"Cross Validation Error for each alpha\")\n",
    "plt.xlabel(\"Alpha i's\")\n",
    "plt.ylabel(\"Error measure\")\n",
    "plt.show()\n",
    "\n",
    "\n",
    "best_alpha = np.argmin(log_error_array)\n",
    "clf = SGDClassifier(alpha=alpha[best_alpha], penalty='l2', loss='log', random_state=42)\n",
    "clf.fit(X_train, y_train)\n",
    "sig_clf = CalibratedClassifierCV(clf, method=\"sigmoid\")\n",
    "sig_clf.fit(X_train, y_train)\n",
    "\n",
    "predict_y = sig_clf.predict_proba(X_train)\n",
    "print('For values of best alpha = ', alpha[best_alpha], \"The train log loss is:\",log_loss(y_train, predict_y, labels=clf.classes_, eps=1e-15))\n",
    "predict_y = sig_clf.predict_proba(X_test)\n",
    "print('For values of best alpha = ', alpha[best_alpha], \"The test log loss is:\",log_loss(y_test, predict_y, labels=clf.classes_, eps=1e-15))\n",
    "predicted_y =np.argmax(predict_y,axis=1)\n",
    "print(\"Total number of data points :\", len(predicted_y))\n",
    "plot_confusion_matrix(y_test, predicted_y)"
   ]
  },
  {
   "cell_type": "markdown",
   "metadata": {},
   "source": [
    "<h2> 6.7 Linear SVM with hyperparameter tuning </h2>"
   ]
  },
  {
   "cell_type": "code",
   "execution_count": 18,
   "metadata": {},
   "outputs": [
    {
     "name": "stdout",
     "output_type": "stream",
     "text": [
      "For values of alpha =  1e-05 The log loss is: 0.6594859818900423\n",
      "For values of alpha =  0.0001 The log loss is: 0.6594859818900423\n",
      "For values of alpha =  0.001 The log loss is: 0.6594859818900423\n",
      "For values of alpha =  0.01 The log loss is: 0.6594859818900423\n",
      "For values of alpha =  0.1 The log loss is: 0.6594859818900423\n",
      "For values of alpha =  1 The log loss is: 0.6594859818900423\n",
      "For values of alpha =  10 The log loss is: 0.6594859818900423\n"
     ]
    },
    {
     "data": {
      "image/png": "[encoded data removed]",
      "text/plain": [
       "<Figure size 432x288 with 1 Axes>"
      ]
     },
     "metadata": {
      "needs_background": "light"
     },
     "output_type": "display_data"
    },
    {
     "name": "stdout",
     "output_type": "stream",
     "text": [
      "For values of best alpha =  1e-05 The train log loss is: 0.6595612003985919\n",
      "For values of best alpha =  1e-05 The test log loss is: 0.6594859818900423\n",
      "Total number of data points : 3000\n"
     ]
    },
    {
     "data": {
      "image/png": "[encoded data removed]",
      "text/plain": [
       "<Figure size 1440x288 with 6 Axes>"
      ]
     },
     "metadata": {
      "needs_background": "light"
     },
     "output_type": "display_data"
    }
   ],
   "source": [
    "alpha = [10 ** x for x in range(-5, 2)] # hyperparam for SGD classifier.\n",
    "\n",
    "\n",
    "log_error_array=[]\n",
    "for i in alpha:\n",
    "    clf = SGDClassifier(alpha=i, penalty='l1', loss='hinge', random_state=42)\n",
    "    clf.fit(X_train, y_train)\n",
    "    sig_clf = CalibratedClassifierCV(clf, method=\"sigmoid\")\n",
    "    sig_clf.fit(X_train, y_train)\n",
    "    predict_y = sig_clf.predict_proba(X_test)\n",
    "    log_error_array.append(log_loss(y_test, predict_y, labels=clf.classes_, eps=1e-15))\n",
    "    print('For values of alpha = ', i, \"The log loss is:\",log_loss(y_test, predict_y, labels=clf.classes_, eps=1e-15))\n",
    "\n",
    "fig, ax = plt.subplots()\n",
    "ax.plot(alpha, log_error_array,c='g')\n",
    "for i, txt in enumerate(np.round(log_error_array,3)):\n",
    "    ax.annotate((alpha[i],np.round(txt,3)), (alpha[i],log_error_array[i]))\n",
    "plt.grid()\n",
    "plt.title(\"Cross Validation Error for each alpha\")\n",
    "plt.xlabel(\"Alpha i's\")\n",
    "plt.ylabel(\"Error measure\")\n",
    "plt.show()\n",
    "\n",
    "\n",
    "best_alpha = np.argmin(log_error_array)\n",
    "clf = SGDClassifier(alpha=alpha[best_alpha], penalty='l1', loss='hinge', random_state=42)\n",
    "clf.fit(X_train, y_train)\n",
    "sig_clf = CalibratedClassifierCV(clf, method=\"sigmoid\")\n",
    "sig_clf.fit(X_train, y_train)\n",
    "\n",
    "predict_y = sig_clf.predict_proba(X_train)\n",
    "print('For values of best alpha = ', alpha[best_alpha], \"The train log loss is:\",log_loss(y_train, predict_y, labels=clf.classes_, eps=1e-15))\n",
    "predict_y = sig_clf.predict_proba(X_test)\n",
    "print('For values of best alpha = ', alpha[best_alpha], \"The test log loss is:\",log_loss(y_test, predict_y, labels=clf.classes_, eps=1e-15))\n",
    "predicted_y =np.argmax(predict_y,axis=1)\n",
    "print(\"Total number of data points :\", len(predicted_y))\n",
    "plot_confusion_matrix(y_test, predicted_y)"
   ]
  },
  {
   "cell_type": "markdown",
   "metadata": {
    "id": "ZhTJgclztAS6"
   },
   "source": [
    "<h2> 6.8 XG Boost with hyperparameter tuning </h2>"
   ]
  },
  {
   "cell_type": "code",
   "execution_count": 19,
   "metadata": {},
   "outputs": [],
   "source": [
    "# DMatrix objects are created for training and testing data respectively.\n",
    "# The DMatrix object is a internal data structure that used by XGBoost which is optimized for both memory efficiency and training speed.\n",
    "dm_train = xgb.DMatrix(X_train, label=y_train)\n",
    "dm_test = xgb.DMatrix(X_test, label=y_test)"
   ]
  },
  {
   "cell_type": "code",
   "execution_count": 20,
   "metadata": {},
   "outputs": [],
   "source": [
    "# range of parameters for gridsearch cv\n",
    "gridsearch_params = [(max_depth, min_child_weight)\n",
    "                    for max_depth in range(4,8)\n",
    "                    for min_child_weight in range(10,15)]"
   ]
  },
  {
   "cell_type": "code",
   "execution_count": 21,
   "metadata": {},
   "outputs": [],
   "source": [
    "# parameters\n",
    "params = {}\n",
    "params['objective'] = 'binary:logistic' # The objective is set to 'binary:logistic' which means that the model will be used \n",
    "                                        #for binary classification with a logistic loss function\n",
    "params['eval_metric'] = 'logloss' # The eval_metric is set to 'logloss' which means that the model's performance will \n",
    "                                  # be evaluated using the logarithmic loss metric.\n",
    "params['eta'] = 0.02 # learning rate"
   ]
  },
  {
   "cell_type": "code",
   "execution_count": 22,
   "metadata": {},
   "outputs": [
    {
     "name": "stdout",
     "output_type": "stream",
     "text": [
      "max_depth: 4 | min_child_weight: 10 with Logloss: 0.457\n",
      "\n",
      "max_depth: 4 | min_child_weight: 11 with Logloss: 0.457\n",
      "\n",
      "max_depth: 4 | min_child_weight: 12 with Logloss: 0.457\n",
      "\n",
      "max_depth: 4 | min_child_weight: 13 with Logloss: 0.458\n",
      "\n",
      "max_depth: 4 | min_child_weight: 14 with Logloss: 0.458\n",
      "\n",
      "max_depth: 5 | min_child_weight: 10 with Logloss: 0.451\n",
      "\n",
      "max_depth: 5 | min_child_weight: 11 with Logloss: 0.452\n",
      "\n",
      "max_depth: 5 | min_child_weight: 12 with Logloss: 0.452\n",
      "\n",
      "max_depth: 5 | min_child_weight: 13 with Logloss: 0.453\n",
      "\n",
      "max_depth: 5 | min_child_weight: 14 with Logloss: 0.452\n",
      "\n",
      "max_depth: 6 | min_child_weight: 10 with Logloss: 0.448\n",
      "\n",
      "max_depth: 6 | min_child_weight: 11 with Logloss: 0.449\n",
      "\n",
      "max_depth: 6 | min_child_weight: 12 with Logloss: 0.449\n",
      "\n",
      "max_depth: 6 | min_child_weight: 13 with Logloss: 0.448\n",
      "\n",
      "max_depth: 6 | min_child_weight: 14 with Logloss: 0.449\n",
      "\n",
      "max_depth: 7 | min_child_weight: 10 with Logloss: 0.446\n",
      "\n",
      "max_depth: 7 | min_child_weight: 11 with Logloss: 0.447\n",
      "\n",
      "max_depth: 7 | min_child_weight: 12 with Logloss: 0.445\n",
      "\n",
      "max_depth: 7 | min_child_weight: 13 with Logloss: 0.447\n",
      "\n",
      "max_depth: 7 | min_child_weight: 14 with Logloss: 0.446\n",
      "\n",
      "Best Parameters: max_depth: 7 | min_child_weight: 12 with Logloss: 0.445\n"
     ]
    }
   ],
   "source": [
    "logloss_min = float(\"Inf\") # set logloss to infinity\n",
    "best_params = None\n",
    "\n",
    "# start gridsearchcv on max depth and min child weight\n",
    "for max_depth, min_child_weight in gridsearch_params:\n",
    "    \n",
    "    params['max_depth'] = max_depth # maximum depth of the  decision tree.\n",
    "    params['min_child_weight'] = min_child_weight # Minimum sum of instance weight needed in a child\n",
    "    \n",
    "    \n",
    "    # perform cross-validation on the XGBoost model \n",
    "    xg_cvresults = xgb.cv(params, dtrain = dm_train, num_boost_round = 400,\n",
    "                      seed = 0, nfold=5, metrics = {'logloss'}, early_stopping_rounds = 20,)\n",
    "    \n",
    "    # store the minimum mean logloss value obtained from the cross-validation for the current \n",
    "    # combination of max_depth and min_child_weight hyperparameters.\n",
    "    logloss_mean = xg_cvresults['test-logloss-mean'].min()\n",
    "    \n",
    "    print(\"max_depth: {} | min_child_weight: {} with Logloss: {:.3}\\n\".format(max_depth,min_child_weight,logloss_mean))\n",
    "    \n",
    "    # If the current logloss value is less than the previously recorded minimum value, the current values of max_depth \n",
    "    # and min_child_weight are considered as the new best hyperparameters, and their logloss value is set as the new minimum.\n",
    "    if logloss_mean < logloss_min:\n",
    "        logloss_min = logloss_mean\n",
    "        best_params = (max_depth, min_child_weight)\n",
    "\n",
    "        \n",
    "print(\"Best Parameters: max_depth: {} | min_child_weight: {} with Logloss: {:.3f}\". format(best_params[0], \n",
    "                                                                                  best_params[1], logloss_min))"
   ]
  },
  {
   "cell_type": "code",
   "execution_count": 24,
   "metadata": {},
   "outputs": [
    {
     "name": "stdout",
     "output_type": "stream",
     "text": [
      "[0]\ttrain-logloss:0.68568\tvalid-logloss:0.68664\n",
      "[10]\ttrain-logloss:0.62339\tvalid-logloss:0.63336\n",
      "[20]\ttrain-logloss:0.57574\tvalid-logloss:0.59445\n",
      "[30]\ttrain-logloss:0.53766\tvalid-logloss:0.56545\n",
      "[40]\ttrain-logloss:0.50617\tvalid-logloss:0.54341\n",
      "[50]\ttrain-logloss:0.48110\tvalid-logloss:0.52657\n",
      "[60]\ttrain-logloss:0.45889\tvalid-logloss:0.51263\n",
      "[70]\ttrain-logloss:0.44105\tvalid-logloss:0.50238\n",
      "[80]\ttrain-logloss:0.42349\tvalid-logloss:0.49307\n",
      "[90]\ttrain-logloss:0.40787\tvalid-logloss:0.48513\n",
      "[100]\ttrain-logloss:0.39525\tvalid-logloss:0.47912\n",
      "[110]\ttrain-logloss:0.38394\tvalid-logloss:0.47452\n",
      "[120]\ttrain-logloss:0.37364\tvalid-logloss:0.47107\n",
      "[130]\ttrain-logloss:0.36497\tvalid-logloss:0.46810\n",
      "[140]\ttrain-logloss:0.35678\tvalid-logloss:0.46476\n",
      "[150]\ttrain-logloss:0.34998\tvalid-logloss:0.46249\n",
      "[160]\ttrain-logloss:0.34282\tvalid-logloss:0.46018\n",
      "[170]\ttrain-logloss:0.33550\tvalid-logloss:0.45848\n",
      "[180]\ttrain-logloss:0.32865\tvalid-logloss:0.45678\n",
      "[190]\ttrain-logloss:0.32146\tvalid-logloss:0.45527\n",
      "[200]\ttrain-logloss:0.31452\tvalid-logloss:0.45384\n",
      "[210]\ttrain-logloss:0.30809\tvalid-logloss:0.45290\n",
      "[220]\ttrain-logloss:0.30116\tvalid-logloss:0.45168\n",
      "[230]\ttrain-logloss:0.29619\tvalid-logloss:0.45087\n",
      "[240]\ttrain-logloss:0.29068\tvalid-logloss:0.45017\n",
      "[250]\ttrain-logloss:0.28445\tvalid-logloss:0.44965\n",
      "[260]\ttrain-logloss:0.27946\tvalid-logloss:0.44893\n",
      "[270]\ttrain-logloss:0.27389\tvalid-logloss:0.44823\n",
      "[280]\ttrain-logloss:0.26786\tvalid-logloss:0.44749\n",
      "[290]\ttrain-logloss:0.26204\tvalid-logloss:0.44668\n",
      "[300]\ttrain-logloss:0.25716\tvalid-logloss:0.44603\n",
      "[310]\ttrain-logloss:0.25200\tvalid-logloss:0.44530\n",
      "[320]\ttrain-logloss:0.24754\tvalid-logloss:0.44492\n",
      "[330]\ttrain-logloss:0.24336\tvalid-logloss:0.44466\n",
      "[340]\ttrain-logloss:0.23916\tvalid-logloss:0.44409\n",
      "[350]\ttrain-logloss:0.23533\tvalid-logloss:0.44373\n",
      "[360]\ttrain-logloss:0.23092\tvalid-logloss:0.44329\n",
      "[370]\ttrain-logloss:0.22638\tvalid-logloss:0.44287\n",
      "[380]\ttrain-logloss:0.22316\tvalid-logloss:0.44258\n",
      "[390]\ttrain-logloss:0.21921\tvalid-logloss:0.44286\n",
      "[399]\ttrain-logloss:0.21601\tvalid-logloss:0.44277\n",
      "The test log loss is: 0.4427719586235471\n",
      "--- 540.6597349643707 seconds ---\n"
     ]
    }
   ],
   "source": [
    "import time\n",
    "start_time = time.time()\n",
    "params = {}\n",
    "# The objective is set to 'binary:logistic' which means that the model will be used for binary classification with a logistic loss function\n",
    "params['objective'] = 'binary:logistic' \n",
    "# The eval_metric is set to 'logloss' which means that the model's performance will be evaluated using the logarithmic loss metric.\n",
    "params['eval_metric'] = 'logloss'\n",
    "params['eta'] = 0.02 # learning rate\n",
    "params['max_depth'] = 7 # maximum depth of the  decision tree.\n",
    "params['min_child_weight'] = 12 # Minimum sum of instance weight needed in a child\n",
    "\n",
    "# DMatrix objects are created for training and testing data respectively.\n",
    "# The DMatrix object is a internal data structure that used by XGBoost which is optimized for both memory efficiency and training speed.\n",
    "d_train = xgb.DMatrix(X_train, label = y_train)\n",
    "d_test = xgb.DMatrix(X_test, label = y_test)\n",
    "\n",
    "#watchlist is created which contains the training and validation data. \n",
    "# This will allow XGBoost to perform early stopping if the performance on the validation set does not improve after a certain number of rounds.\n",
    "watchlist = [(d_train, 'train'), (d_test, 'valid')]\n",
    "\n",
    "# tarin model\n",
    "bst = xgb.train(params, d_train, 400, watchlist, early_stopping_rounds=20, verbose_eval=10)\n",
    "\n",
    "xgdmat = xgb.DMatrix(X_train,y_train)\n",
    "# prediction on test data.\n",
    "predict_y = bst.predict(d_test)\n",
    "print(\"The test log loss is:\",log_loss(y_test, predict_y, labels=labels, eps=1e-15))\n",
    "print(\"--- %s seconds ---\" % (time.time() - start_time))"
   ]
  },
  {
   "cell_type": "code",
   "execution_count": 25,
   "metadata": {},
   "outputs": [
    {
     "name": "stdout",
     "output_type": "stream",
     "text": [
      "Total number of data points : 3000\n"
     ]
    },
    {
     "data": {
      "image/png": "[encoded data removed]",
      "text/plain": [
       "<Figure size 1440x288 with 6 Axes>"
      ]
     },
     "metadata": {
      "needs_background": "light"
     },
     "output_type": "display_data"
    }
   ],
   "source": [
    "predicted_y =np.array(predict_y>0.5,dtype=int)\n",
    "print(\"Total number of data points :\", len(predicted_y))\n",
    "plot_confusion_matrix(y_test, predicted_y)"
   ]
  },
  {
   "cell_type": "markdown",
   "metadata": {},
   "source": [
    "<h2>save best model</h2>"
   ]
  },
  {
   "cell_type": "code",
   "execution_count": 26,
   "metadata": {},
   "outputs": [],
   "source": [
    "import pickle\n",
    "filename = 'model.sav'\n",
    "pickle.dump(bst, open(filename, 'wb'))"
   ]
  }
 ],
 "metadata": {
  "colab": {
   "collapsed_sections": [],
   "name": "4.ML_models.ipynb",
   "provenance": []
  },
  "kernelspec": {
   "display_name": "Python 3 (ipykernel)",
   "language": "python",
   "name": "python3"
  },
  "language_info": {
   "codemirror_mode": {
    "name": "ipython",
    "version": 3
   },
   "file_extension": ".py",
   "mimetype": "text/x-python",
   "name": "python",
   "nbconvert_exporter": "python",
   "pygments_lexer": "ipython3",
   "version": "3.9.12"
  }
 },
 "nbformat": 4,
 "nbformat_minor": 1
}
